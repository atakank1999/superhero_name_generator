{
 "cells": [
  {
   "cell_type": "markdown",
   "metadata": {
    "id": "21XXWP7Fpt2L"
   },
   "source": [
    "# Superhero (and Supervillain) Name Generator\n",
    "\n",
    "---\n",
    "\n",
    "[Superhero Names Dataset](https://github.com/am1tyadav/superhero)"
   ]
  },
  {
   "cell_type": "markdown",
   "metadata": {
    "id": "H6P0NU5Cpt2R"
   },
   "source": [
    "## Task 2\n",
    "\n",
    "1. Import the data\n",
    "2. Create a tokenizer\n",
    "3. Char to index and Index to char dictionaries"
   ]
  },
  {
   "cell_type": "code",
   "execution_count": null,
   "metadata": {
    "colab": {
     "base_uri": "https://localhost:8080/"
    },
    "id": "srULhalZpt2M",
    "outputId": "b4cc8e31-2df8-4da4-d565-9505b788778f"
   },
   "outputs": [],
   "source": [
    "!git clone https://github.com/am1tyadav/superhero.git"
   ]
  },
  {
   "cell_type": "code",
   "execution_count": 2,
   "metadata": {
    "colab": {
     "base_uri": "https://localhost:8080/",
     "height": 35
    },
    "id": "uq4CLmsLpt2P",
    "outputId": "435d9345-6e8e-4e71-848b-58a5a581c0a0"
   },
   "outputs": [
    {
     "data": {
      "text/plain": [
       "'jumpa\\t\\ndoctor fate\\t\\nstarlight\\t\\nisildur\\t\\nlasher\\t\\nvarvara\\t\\nthe target\\t\\naxel\\t\\nbattra\\t\\nchangeling\\t\\npyrrh'"
      ]
     },
     "execution_count": 2,
     "metadata": {},
     "output_type": "execute_result"
    }
   ],
   "source": [
    "with open('superhero/superheroes.txt','r') as f:\n",
    "  data =f.read()\n",
    "data[:100]"
   ]
  },
  {
   "cell_type": "code",
   "execution_count": null,
   "metadata": {},
   "outputs": [],
   "source": []
  },
  {
   "cell_type": "code",
   "execution_count": 3,
   "metadata": {
    "colab": {
     "base_uri": "https://localhost:8080/"
    },
    "id": "JqhtLuAHpt2R",
    "outputId": "aae943a1-0bc2-48f9-bcff-9ac10e5e0184"
   },
   "outputs": [
    {
     "name": "stdout",
     "output_type": "stream",
     "text": [
      "2.6.0\n"
     ]
    }
   ],
   "source": [
    "import tensorflow as tf\n",
    "print(tf.__version__)"
   ]
  },
  {
   "cell_type": "code",
   "execution_count": 4,
   "metadata": {
    "colab": {
     "base_uri": "https://localhost:8080/"
    },
    "id": "95Lo1Yqzpt2T",
    "outputId": "dfa55af8-8199-4c33-b2eb-d12c722b6716"
   },
   "outputs": [],
   "source": [
    "tokenizer = tf.keras.preprocessing.text.Tokenizer(\n",
    "    filters='!\"#$%&()*+,-./:;<=>?@[\\\\]^_`{|}~',\n",
    "    split='\\n',\n",
    ")"
   ]
  },
  {
   "cell_type": "code",
   "execution_count": 5,
   "metadata": {
    "id": "qYfC4sj2pt2V"
   },
   "outputs": [],
   "source": [
    "tokenizer.fit_on_texts(data)"
   ]
  },
  {
   "cell_type": "code",
   "execution_count": 6,
   "metadata": {
    "colab": {
     "base_uri": "https://localhost:8080/"
    },
    "id": "EO4-dPM6pt2X",
    "outputId": "9000d3a6-fd5d-4251-cdbd-bbc6e3a764f4"
   },
   "outputs": [
    {
     "name": "stdout",
     "output_type": "stream",
     "text": [
      "{1: '\\t', 2: 'a', 3: 'e', 4: 'r', 5: 'o', 6: 'n', 7: 'i', 8: ' ', 9: 't', 10: 's', 11: 'l', 12: 'm', 13: 'h', 14: 'd', 15: 'c', 16: 'u', 17: 'g', 18: 'k', 19: 'b', 20: 'p', 21: 'y', 22: 'w', 23: 'f', 24: 'v', 25: 'j', 26: 'z', 27: 'x', 28: 'q'}\n"
     ]
    }
   ],
   "source": [
    "char_to_index = tokenizer.word_index\n",
    "index_to_char = dict((v,k) for k,v in char_to_index.items())\n",
    "print(index_to_char)"
   ]
  },
  {
   "cell_type": "markdown",
   "metadata": {
    "id": "SMwtIw_Bpt2Z"
   },
   "source": [
    "## Task 3\n",
    "\n",
    "1. Converting between names and sequences"
   ]
  },
  {
   "cell_type": "code",
   "execution_count": 7,
   "metadata": {
    "colab": {
     "base_uri": "https://localhost:8080/"
    },
    "id": "N7iQLIXzpt2a",
    "outputId": "b24d08b7-13c4-4d57-9001-1d9239cef6bf"
   },
   "outputs": [
    {
     "data": {
      "text/plain": [
       "['jumpa\\t',\n",
       " 'doctor fate\\t',\n",
       " 'starlight\\t',\n",
       " 'isildur\\t',\n",
       " 'lasher\\t',\n",
       " 'varvara\\t',\n",
       " 'the target\\t',\n",
       " 'axel\\t',\n",
       " 'battra\\t',\n",
       " 'changeling\\t']"
      ]
     },
     "execution_count": 7,
     "metadata": {},
     "output_type": "execute_result"
    }
   ],
   "source": [
    "names = data.splitlines()\n",
    "names[:10]"
   ]
  },
  {
   "cell_type": "code",
   "execution_count": 8,
   "metadata": {
    "colab": {
     "base_uri": "https://localhost:8080/"
    },
    "id": "n_-TTfqipt2c",
    "outputId": "426e3215-58e2-4e89-b816-3fbb7e209d53"
   },
   "outputs": [
    {
     "data": {
      "text/plain": [
       "[[25], [16], [12], [20], [2], [1]]"
      ]
     },
     "execution_count": 8,
     "metadata": {},
     "output_type": "execute_result"
    }
   ],
   "source": [
    "tokenizer.texts_to_sequences(names[0])"
   ]
  },
  {
   "cell_type": "code",
   "execution_count": 9,
   "metadata": {
    "id": "P6IsKH1Upt2e"
   },
   "outputs": [],
   "source": [
    "def name_to_seq(name):\n",
    "  return [tokenizer.texts_to_sequences(c)[0][0] for c in name]"
   ]
  },
  {
   "cell_type": "code",
   "execution_count": 10,
   "metadata": {
    "colab": {
     "base_uri": "https://localhost:8080/"
    },
    "id": "TuLUiMP3pt2g",
    "outputId": "7c8cc538-b6ea-4e02-b9eb-0777ebcad901"
   },
   "outputs": [
    {
     "data": {
      "text/plain": [
       "[25, 16, 12, 20, 2, 1]"
      ]
     },
     "execution_count": 10,
     "metadata": {},
     "output_type": "execute_result"
    }
   ],
   "source": [
    "name_to_seq(names[0])"
   ]
  },
  {
   "cell_type": "code",
   "execution_count": 11,
   "metadata": {
    "id": "yFUYhimKpt2h"
   },
   "outputs": [],
   "source": [
    "def seq_to_name(seq):\n",
    "  return ''.join([index_to_char[i] for i in seq if i!=0])"
   ]
  },
  {
   "cell_type": "code",
   "execution_count": 12,
   "metadata": {
    "colab": {
     "base_uri": "https://localhost:8080/",
     "height": 35
    },
    "id": "ROhCqmhLpt2k",
    "outputId": "8caebef2-c61b-4774-de91-d02bb8affb5e"
   },
   "outputs": [
    {
     "data": {
      "text/plain": [
       "'jumpa\\t'"
      ]
     },
     "execution_count": 12,
     "metadata": {},
     "output_type": "execute_result"
    }
   ],
   "source": [
    "seq_to_name(name_to_seq(names[0]))"
   ]
  },
  {
   "cell_type": "markdown",
   "metadata": {
    "id": "uCbAzsNjpt2m"
   },
   "source": [
    "## Task 4\n",
    "\n",
    "1. Creating sequences\n",
    "2. Padding all sequences"
   ]
  },
  {
   "cell_type": "code",
   "execution_count": 13,
   "metadata": {
    "id": "zstNn-0dpt2m"
   },
   "outputs": [],
   "source": [
    "sequences = []\n",
    "for name in names:\n",
    "  seq = name_to_seq(name)\n",
    "  if len(seq)>=2:\n",
    "    sequences+=[seq[:i] for i in range(2,len(seq)+1) ]"
   ]
  },
  {
   "cell_type": "code",
   "execution_count": 14,
   "metadata": {
    "colab": {
     "base_uri": "https://localhost:8080/"
    },
    "id": "BjRTMysvpt2o",
    "outputId": "7426c1e3-1fd6-414f-b24e-e67f75252911"
   },
   "outputs": [
    {
     "data": {
      "text/plain": [
       "[[25, 16],\n",
       " [25, 16, 12],\n",
       " [25, 16, 12, 20],\n",
       " [25, 16, 12, 20, 2],\n",
       " [25, 16, 12, 20, 2, 1],\n",
       " [14, 5],\n",
       " [14, 5, 15],\n",
       " [14, 5, 15, 9],\n",
       " [14, 5, 15, 9, 5],\n",
       " [14, 5, 15, 9, 5, 4]]"
      ]
     },
     "execution_count": 14,
     "metadata": {},
     "output_type": "execute_result"
    }
   ],
   "source": [
    "sequences[:10]"
   ]
  },
  {
   "cell_type": "code",
   "execution_count": 15,
   "metadata": {
    "colab": {
     "base_uri": "https://localhost:8080/"
    },
    "id": "SR68pu2tpt2q",
    "outputId": "dc99b40e-2f99-4683-90f3-6c8a987c0af5"
   },
   "outputs": [
    {
     "name": "stdout",
     "output_type": "stream",
     "text": [
      "33\n"
     ]
    }
   ],
   "source": [
    "max_len = max([len(x) for x in sequences])\n",
    "print(max_len)"
   ]
  },
  {
   "cell_type": "code",
   "execution_count": 16,
   "metadata": {
    "colab": {
     "base_uri": "https://localhost:8080/"
    },
    "id": "h_1BtWO7pt2r",
    "outputId": "84dfd36c-b33b-48b5-c16c-0f46f3d9421c"
   },
   "outputs": [
    {
     "name": "stdout",
     "output_type": "stream",
     "text": [
      "[ 0  0  0  0  0  0  0  0  0  0  0  0  0  0  0  0  0  0  0  0  0  0  0  0\n",
      "  0  0  0  0  0  0  0 25 16]\n"
     ]
    }
   ],
   "source": [
    "padded_sequences  = tf.keras.preprocessing.sequence.pad_sequences(\n",
    "    sequences,padding='pre',\n",
    "    maxlen=max_len\n",
    "\n",
    ")\n",
    "\n",
    "print(padded_sequences[0])"
   ]
  },
  {
   "cell_type": "code",
   "execution_count": 17,
   "metadata": {
    "colab": {
     "base_uri": "https://localhost:8080/"
    },
    "id": "sPlrLRpSpt2t",
    "outputId": "ac889d55-5e3b-45e0-d790-3930f8b6613f"
   },
   "outputs": [
    {
     "data": {
      "text/plain": [
       "(88279, 33)"
      ]
     },
     "execution_count": 17,
     "metadata": {},
     "output_type": "execute_result"
    }
   ],
   "source": [
    "padded_sequences.shape"
   ]
  },
  {
   "cell_type": "markdown",
   "metadata": {
    "id": "_jZEFz2vkcCa"
   },
   "source": [
    "## Task 5: Creating Training and Validation Sets\n",
    "\n",
    "1. Creating training and validation sets"
   ]
  },
  {
   "cell_type": "code",
   "execution_count": 18,
   "metadata": {
    "colab": {
     "base_uri": "https://localhost:8080/"
    },
    "id": "BE4BIeSnpt2v",
    "outputId": "75699c98-8d92-4365-d403-37c218a7745f"
   },
   "outputs": [
    {
     "name": "stdout",
     "output_type": "stream",
     "text": [
      "(88279, 32) (88279,)\n"
     ]
    }
   ],
   "source": [
    "x, y = padded_sequences[:,:-1], padded_sequences[:,-1]\n",
    "print(x.shape,y.shape)"
   ]
  },
  {
   "cell_type": "code",
   "execution_count": 19,
   "metadata": {
    "colab": {
     "base_uri": "https://localhost:8080/"
    },
    "id": "2Lbv-u2MkcCa",
    "outputId": "08c8af9f-1dc7-456c-cf73-6e6acd9d0613"
   },
   "outputs": [
    {
     "name": "stdout",
     "output_type": "stream",
     "text": [
      "(66209, 32) (66209,)\n",
      "(22070, 32) (22070,)\n"
     ]
    }
   ],
   "source": [
    "from sklearn.model_selection import train_test_split\n",
    "x_train,x_test,y_train,y_test = train_test_split(x,y)\n",
    "print(x_train.shape,y_train.shape)\n",
    "print(x_test.shape,y_test.shape)"
   ]
  },
  {
   "cell_type": "code",
   "execution_count": 20,
   "metadata": {
    "colab": {
     "base_uri": "https://localhost:8080/"
    },
    "id": "cgqRZtqnpt2x",
    "outputId": "178536a1-a0c3-48bd-be0e-c81f04600eec"
   },
   "outputs": [
    {
     "name": "stdout",
     "output_type": "stream",
     "text": [
      "29\n"
     ]
    }
   ],
   "source": [
    "num_chars = len(char_to_index.keys())+1\n",
    "print(num_chars)"
   ]
  },
  {
   "cell_type": "markdown",
   "metadata": {
    "id": "lGK0KCT6kcCa"
   },
   "source": [
    "## Task 6: Creating the Model"
   ]
  },
  {
   "cell_type": "code",
   "execution_count": 21,
   "metadata": {
    "colab": {
     "base_uri": "https://localhost:8080/"
    },
    "id": "ftzvtRbKkcCb",
    "outputId": "4106f0db-c1ca-4c3d-9213-65a3220f9b23"
   },
   "outputs": [
    {
     "name": "stdout",
     "output_type": "stream",
     "text": [
      "Model: \"sequential\"\n",
      "_________________________________________________________________\n",
      "Layer (type)                 Output Shape              Param #   \n",
      "=================================================================\n",
      "embedding (Embedding)        (None, 32, 8)             232       \n",
      "_________________________________________________________________\n",
      "conv1d (Conv1D)              (None, 32, 64)            2624      \n",
      "_________________________________________________________________\n",
      "max_pooling1d (MaxPooling1D) (None, 16, 64)            0         \n",
      "_________________________________________________________________\n",
      "lstm (LSTM)                  (None, 32)                12416     \n",
      "_________________________________________________________________\n",
      "dense (Dense)                (None, 29)                957       \n",
      "=================================================================\n",
      "Total params: 16,229\n",
      "Trainable params: 16,229\n",
      "Non-trainable params: 0\n",
      "_________________________________________________________________\n"
     ]
    }
   ],
   "source": [
    "from tensorflow.keras.models import Sequential\n",
    "from tensorflow.keras.layers import Embedding,Conv1D,MaxPool1D,LSTM,Bidirectional,Dense\n",
    "\n",
    "model = Sequential([\n",
    "                    Embedding(num_chars,8,input_length=max_len-1),\n",
    "                    Conv1D(64,5,strides=1,activation='tanh',padding='causal'),\n",
    "                    MaxPool1D(2),\n",
    "                    LSTM(32),\n",
    "                    Dense(num_chars,activation=\"softmax\")\n",
    "])\n",
    "\n",
    "model.compile(\n",
    "    loss='sparse_categorical_crossentropy',\n",
    "    optimizer='adam',\n",
    "    metrics=['accuracy']\n",
    ")\n",
    "\n",
    "model.summary()"
   ]
  },
  {
   "cell_type": "markdown",
   "metadata": {
    "id": "aEvSoBTOkcCb"
   },
   "source": [
    "## Task 7: Training the Model"
   ]
  },
  {
   "cell_type": "code",
   "execution_count": 22,
   "metadata": {
    "colab": {
     "base_uri": "https://localhost:8080/"
    },
    "id": "j0Ssl4qupt22",
    "outputId": "cb033455-33fd-4b24-ee15-869c6638d234"
   },
   "outputs": [
    {
     "name": "stdout",
     "output_type": "stream",
     "text": [
      "Epoch 1/50\n",
      "2070/2070 - 14s - loss: 2.7371 - accuracy: 0.1927 - val_loss: 2.5819 - val_accuracy: 0.2287\n",
      "Epoch 2/50\n",
      "2070/2070 - 14s - loss: 2.5303 - accuracy: 0.2382 - val_loss: 2.4939 - val_accuracy: 0.2563\n",
      "Epoch 3/50\n",
      "2070/2070 - 14s - loss: 2.4614 - accuracy: 0.2593 - val_loss: 2.4443 - val_accuracy: 0.2619\n",
      "Epoch 4/50\n",
      "2070/2070 - 14s - loss: 2.4133 - accuracy: 0.2702 - val_loss: 2.4091 - val_accuracy: 0.2744\n",
      "Epoch 5/50\n",
      "2070/2070 - 14s - loss: 2.3760 - accuracy: 0.2796 - val_loss: 2.3783 - val_accuracy: 0.2829\n",
      "Epoch 6/50\n",
      "2070/2070 - 13s - loss: 2.3415 - accuracy: 0.2902 - val_loss: 2.3560 - val_accuracy: 0.2886\n",
      "Epoch 7/50\n",
      "2070/2070 - 15s - loss: 2.3115 - accuracy: 0.3023 - val_loss: 2.3329 - val_accuracy: 0.2978\n",
      "Epoch 8/50\n",
      "2070/2070 - 15s - loss: 2.2829 - accuracy: 0.3101 - val_loss: 2.3142 - val_accuracy: 0.2992\n",
      "Epoch 9/50\n",
      "2070/2070 - 15s - loss: 2.2565 - accuracy: 0.3195 - val_loss: 2.3008 - val_accuracy: 0.3105\n",
      "Epoch 10/50\n",
      "2070/2070 - 15s - loss: 2.2330 - accuracy: 0.3260 - val_loss: 2.2821 - val_accuracy: 0.3126\n",
      "Epoch 11/50\n",
      "2070/2070 - 14s - loss: 2.2117 - accuracy: 0.3325 - val_loss: 2.2693 - val_accuracy: 0.3193\n",
      "Epoch 12/50\n",
      "2070/2070 - 15s - loss: 2.1920 - accuracy: 0.3400 - val_loss: 2.2607 - val_accuracy: 0.3193\n",
      "Epoch 13/50\n",
      "2070/2070 - 14s - loss: 2.1756 - accuracy: 0.3457 - val_loss: 2.2469 - val_accuracy: 0.3275\n",
      "Epoch 14/50\n",
      "2070/2070 - 15s - loss: 2.1590 - accuracy: 0.3501 - val_loss: 2.2441 - val_accuracy: 0.3296\n",
      "Epoch 15/50\n",
      "2070/2070 - 15s - loss: 2.1437 - accuracy: 0.3552 - val_loss: 2.2307 - val_accuracy: 0.3311\n",
      "Epoch 16/50\n",
      "2070/2070 - 15s - loss: 2.1292 - accuracy: 0.3591 - val_loss: 2.2303 - val_accuracy: 0.3350\n",
      "Epoch 17/50\n",
      "2070/2070 - 16s - loss: 2.1177 - accuracy: 0.3630 - val_loss: 2.2215 - val_accuracy: 0.3389\n",
      "Epoch 18/50\n",
      "2070/2070 - 14s - loss: 2.1054 - accuracy: 0.3676 - val_loss: 2.2172 - val_accuracy: 0.3420\n",
      "Epoch 19/50\n",
      "2070/2070 - 15s - loss: 2.0943 - accuracy: 0.3708 - val_loss: 2.2127 - val_accuracy: 0.3450\n",
      "Epoch 20/50\n",
      "2070/2070 - 15s - loss: 2.0843 - accuracy: 0.3732 - val_loss: 2.2045 - val_accuracy: 0.3478\n",
      "Epoch 21/50\n",
      "2070/2070 - 15s - loss: 2.0744 - accuracy: 0.3770 - val_loss: 2.2033 - val_accuracy: 0.3443\n",
      "Epoch 22/50\n",
      "2070/2070 - 13s - loss: 2.0654 - accuracy: 0.3797 - val_loss: 2.2006 - val_accuracy: 0.3480\n",
      "Epoch 23/50\n",
      "2070/2070 - 14s - loss: 2.0560 - accuracy: 0.3804 - val_loss: 2.2007 - val_accuracy: 0.3497\n",
      "Epoch 24/50\n",
      "2070/2070 - 14s - loss: 2.0481 - accuracy: 0.3854 - val_loss: 2.2003 - val_accuracy: 0.3463\n",
      "Epoch 25/50\n",
      "2070/2070 - 14s - loss: 2.0398 - accuracy: 0.3874 - val_loss: 2.2016 - val_accuracy: 0.3497\n",
      "Epoch 26/50\n",
      "2070/2070 - 15s - loss: 2.0332 - accuracy: 0.3890 - val_loss: 2.1966 - val_accuracy: 0.3501\n",
      "Epoch 27/50\n",
      "2070/2070 - 14s - loss: 2.0269 - accuracy: 0.3913 - val_loss: 2.1963 - val_accuracy: 0.3548\n",
      "Epoch 28/50\n",
      "2070/2070 - 13s - loss: 2.0188 - accuracy: 0.3947 - val_loss: 2.1979 - val_accuracy: 0.3525\n",
      "Epoch 29/50\n",
      "2070/2070 - 14s - loss: 2.0133 - accuracy: 0.3970 - val_loss: 2.1988 - val_accuracy: 0.3533\n",
      "Epoch 30/50\n",
      "2070/2070 - 16s - loss: 2.0063 - accuracy: 0.3968 - val_loss: 2.1989 - val_accuracy: 0.3533\n"
     ]
    }
   ],
   "source": [
    "h = model.fit(\n",
    "    x_train,y_train,\n",
    "    validation_data=(x_test,y_test),\n",
    "    epochs=50,verbose=2,\n",
    "    callbacks=[\n",
    "               tf.keras.callbacks.EarlyStopping(monitor='val_accuracy',patience=3)\n",
    "    ]\n",
    ")"
   ]
  },
  {
   "cell_type": "code",
   "execution_count": 23,
   "metadata": {
    "colab": {
     "base_uri": "https://localhost:8080/",
     "height": 265
    },
    "id": "qNR22OhizOza",
    "outputId": "bf853b39-d2b4-4c09-b1d6-da6eb6433d25"
   },
   "outputs": [
    {
     "data": {
      "image/png": "[encoded data removed]",
      "text/plain": [
       "<Figure size 432x288 with 1 Axes>"
      ]
     },
     "metadata": {
      "needs_background": "light"
     },
     "output_type": "display_data"
    }
   ],
   "source": [
    "from matplotlib import pyplot as plt\n",
    "epochs_ran = len(h.history['loss'])\n",
    "\n",
    "plt.plot(range(0,epochs_ran),h.history['val_accuracy'],label='Validation')\n",
    "plt.plot(range(0,epochs_ran),h.history['accuracy'],label='Training')\n",
    "plt.legend()\n",
    "plt.show()\n"
   ]
  },
  {
   "cell_type": "markdown",
   "metadata": {
    "id": "hoGpvUK8kcCb"
   },
   "source": [
    "## Task 8: Generate Names!"
   ]
  },
  {
   "cell_type": "code",
   "execution_count": 24,
   "metadata": {
    "id": "9f50aTRcpt24"
   },
   "outputs": [],
   "source": [
    "def generate_names(seed):\n",
    "  for i in range(0,40):\n",
    "    seq = name_to_seq(seed)\n",
    "    padded = tf.keras.preprocessing.sequence.pad_sequences([seq],padding='pre',\n",
    "                                                           maxlen=max_len-1,\n",
    "                                                           truncating='pre')\n",
    "    pred = model.predict(padded)[0]\n",
    "    pred_char = index_to_char[tf.argmax(pred).numpy()]\n",
    "    seed += pred_char\n",
    "\n",
    "    if pred_char == '\\t':\n",
    "      break\n",
    "\n",
    "  print(seed)"
   ]
  },
  {
   "cell_type": "code",
   "execution_count": 33,
   "metadata": {
    "colab": {
     "base_uri": "https://localhost:8080/"
    },
    "id": "faQ0FInlpt26",
    "outputId": "5a196d98-3f24-48da-ae11-75e50676d90d"
   },
   "outputs": [
    {
     "name": "stdout",
     "output_type": "stream",
     "text": [
      "warlen scarketer\t\n"
     ]
    }
   ],
   "source": [
    "generate_names('w')"
   ]
  }
 ],
 "metadata": {
  "accelerator": "GPU",
  "colab": {
   "collapsed_sections": [],
   "name": "Superhero Name Generator - Learner.ipynb",
   "provenance": []
  },
  "kernelspec": {
   "display_name": "Python 3 (ipykernel)",
   "language": "python",
   "name": "python3"
  },
  "language_info": {
   "codemirror_mode": {
    "name": "ipython",
    "version": 3
   },
   "file_extension": ".py",
   "mimetype": "text/x-python",
   "name": "python",
   "nbconvert_exporter": "python",
   "pygments_lexer": "ipython3",
   "version": "3.7.11"
  }
 },
 "nbformat": 4,
 "nbformat_minor": 1
}
